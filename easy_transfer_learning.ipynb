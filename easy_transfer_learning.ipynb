{
 "cells": [
  {
   "cell_type": "markdown",
   "id": "45ea3ef5",
   "metadata": {
    "id": "45ea3ef5"
   },
   "source": [
    "# Easy transfer learning with 🐸 STT ⚡\n",
    "\n",
    "You want to train a Coqui (🐸) STT model, but you don't have a lot of data. What do you do?\n",
    "\n",
    "The answer 💡: Grab a pre-trained model and fine-tune it to your data. This is called `\"Transfer Learning\"` ⚡\n",
    "\n",
    "🐸 STT comes with transfer learning support out-of-the box.\n",
    "\n",
    "You can even take a pre-trained model and fine-tune it to _any new language_, even if the alphabets are completely different. Likewise, you can fine-tune a model to your own data and improve performance if the language is the same.\n",
    "\n",
    "In this notebook, we will:\n",
    "\n",
    "1. Download a pre-trained English STT model.\n",
    "2. Download data for the Russian language.\n",
    "3. Fine-tune the English model to Russian language.\n",
    "4. Test the new Russian model and display its performance.\n",
    "\n",
    "So, let's jump right in!\n",
    "\n",
    "*PS - If you just want a working, off-the-shelf model, check out the [🐸 Model Zoo](https://www.coqui.ai/models)*"
   ]
  },
  {
   "cell_type": "code",
   "execution_count": 1,
   "id": "fa2aec77",
   "metadata": {
    "id": "fa2aec77"
   },
   "outputs": [
    {
     "name": "stdout",
     "output_type": "stream",
     "text": [
      "/usr/lib/python3/dist-packages/secretstorage/dhcrypto.py:15: CryptographyDeprecationWarning: int_from_bytes is deprecated, use int.from_bytes instead\n",
      "  from cryptography.utils import int_from_bytes\n",
      "/usr/lib/python3/dist-packages/secretstorage/util.py:19: CryptographyDeprecationWarning: int_from_bytes is deprecated, use int.from_bytes instead\n",
      "  from cryptography.utils import int_from_bytes\n",
      "^C\n",
      "/usr/lib/python3/dist-packages/secretstorage/dhcrypto.py:15: CryptographyDeprecationWarning: int_from_bytes is deprecated, use int.from_bytes instead\n",
      "  from cryptography.utils import int_from_bytes\n",
      "/usr/lib/python3/dist-packages/secretstorage/util.py:19: CryptographyDeprecationWarning: int_from_bytes is deprecated, use int.from_bytes instead\n",
      "  from cryptography.utils import int_from_bytes\n",
      "Defaulting to user installation because normal site-packages is not writeable\n",
      "Requirement already satisfied: coqui_stt_training in /home/aquib/.local/lib/python3.6/site-packages (1.3.0)\n",
      "Requirement already satisfied: resampy>=0.2.2 in /home/aquib/.local/lib/python3.6/site-packages (from coqui_stt_training) (0.2.2)\n",
      "Requirement already satisfied: soundfile in /home/aquib/.local/lib/python3.6/site-packages (from coqui_stt_training) (0.10.3.post1)\n",
      "Requirement already satisfied: progressbar2 in /home/aquib/.local/lib/python3.6/site-packages (from coqui_stt_training) (3.55.0)\n",
      "Requirement already satisfied: coqpit in /home/aquib/.local/lib/python3.6/site-packages (from coqui_stt_training) (0.0.15)\n",
      "Requirement already satisfied: six in /home/aquib/.local/lib/python3.6/site-packages (from coqui_stt_training) (1.15.0)\n",
      "Requirement already satisfied: requests in /home/aquib/.local/lib/python3.6/site-packages (from coqui_stt_training) (2.25.1)\n",
      "Requirement already satisfied: pandas in /home/aquib/.local/lib/python3.6/site-packages (from coqui_stt_training) (1.1.0)\n",
      "Requirement already satisfied: tensorflow==1.15.4 in /home/aquib/.local/lib/python3.6/site-packages (from coqui_stt_training) (1.15.4)\n",
      "Requirement already satisfied: sox in /home/aquib/.local/lib/python3.6/site-packages (from coqui_stt_training) (1.4.1)\n",
      "Requirement already satisfied: numpy in /home/aquib/.local/lib/python3.6/site-packages (from coqui_stt_training) (1.18.5)\n",
      "Requirement already satisfied: pyogg>=0.6.14a1 in /home/aquib/.local/lib/python3.6/site-packages (from coqui_stt_training) (0.6.14a1)\n",
      "Requirement already satisfied: semver in /home/aquib/.local/lib/python3.6/site-packages (from coqui_stt_training) (2.13.0)\n",
      "Requirement already satisfied: tqdm in /usr/local/lib/python3.6/dist-packages (from coqui_stt_training) (4.59.0)\n",
      "Requirement already satisfied: attrdict in /home/aquib/.local/lib/python3.6/site-packages (from coqui_stt_training) (2.0.1)\n",
      "Requirement already satisfied: numba<=0.53.1 in /home/aquib/.local/lib/python3.6/site-packages (from coqui_stt_training) (0.53.1)\n",
      "Requirement already satisfied: bs4 in /usr/local/lib/python3.6/dist-packages (from coqui_stt_training) (0.0.1)\n",
      "Requirement already satisfied: optuna in /home/aquib/.local/lib/python3.6/site-packages (from coqui_stt_training) (2.10.0)\n",
      "Requirement already satisfied: webdataset in /home/aquib/.local/lib/python3.6/site-packages (from coqui_stt_training) (0.2.5)\n",
      "Requirement already satisfied: opuslib==2.0.0 in /home/aquib/.local/lib/python3.6/site-packages (from coqui_stt_training) (2.0.0)\n",
      "Requirement already satisfied: miniaudio in /home/aquib/.local/lib/python3.6/site-packages (from coqui_stt_training) (1.46)\n",
      "Requirement already satisfied: coqui-stt-ctcdecoder==1.3.0 in /home/aquib/.local/lib/python3.6/site-packages (from coqui_stt_training) (1.3.0)\n",
      "Requirement already satisfied: termcolor>=1.1.0 in /home/aquib/.local/lib/python3.6/site-packages (from tensorflow==1.15.4->coqui_stt_training) (1.1.0)\n",
      "Requirement already satisfied: astor>=0.6.0 in /home/aquib/.local/lib/python3.6/site-packages (from tensorflow==1.15.4->coqui_stt_training) (0.8.1)\n",
      "Requirement already satisfied: absl-py>=0.7.0 in /home/aquib/.local/lib/python3.6/site-packages (from tensorflow==1.15.4->coqui_stt_training) (0.11.0)\n",
      "Requirement already satisfied: keras-preprocessing>=1.0.5 in /home/aquib/.local/lib/python3.6/site-packages (from tensorflow==1.15.4->coqui_stt_training) (1.1.2)\n",
      "Requirement already satisfied: wheel>=0.26 in /home/aquib/.local/lib/python3.6/site-packages (from tensorflow==1.15.4->coqui_stt_training) (0.36.2)\n",
      "Requirement already satisfied: tensorboard<1.16.0,>=1.15.0 in /home/aquib/.local/lib/python3.6/site-packages (from tensorflow==1.15.4->coqui_stt_training) (1.15.0)\n",
      "Requirement already satisfied: gast==0.2.2 in /home/aquib/.local/lib/python3.6/site-packages (from tensorflow==1.15.4->coqui_stt_training) (0.2.2)\n",
      "Requirement already satisfied: tensorflow-estimator==1.15.1 in /home/aquib/.local/lib/python3.6/site-packages (from tensorflow==1.15.4->coqui_stt_training) (1.15.1)\n",
      "Requirement already satisfied: keras-applications>=1.0.8 in /home/aquib/.local/lib/python3.6/site-packages (from tensorflow==1.15.4->coqui_stt_training) (1.0.8)\n",
      "Requirement already satisfied: opt-einsum>=2.3.2 in /home/aquib/.local/lib/python3.6/site-packages (from tensorflow==1.15.4->coqui_stt_training) (3.3.0)\n",
      "Requirement already satisfied: grpcio>=1.8.6 in /home/aquib/.local/lib/python3.6/site-packages (from tensorflow==1.15.4->coqui_stt_training) (1.32.0)\n",
      "Requirement already satisfied: google-pasta>=0.1.6 in /home/aquib/.local/lib/python3.6/site-packages (from tensorflow==1.15.4->coqui_stt_training) (0.2.0)\n",
      "Requirement already satisfied: protobuf>=3.6.1 in /home/aquib/.local/lib/python3.6/site-packages (from tensorflow==1.15.4->coqui_stt_training) (3.15.5)\n",
      "Requirement already satisfied: wrapt>=1.11.1 in /home/aquib/.local/lib/python3.6/site-packages (from tensorflow==1.15.4->coqui_stt_training) (1.12.1)\n",
      "Requirement already satisfied: llvmlite<0.37,>=0.36.0rc1 in /home/aquib/.local/lib/python3.6/site-packages (from numba<=0.53.1->coqui_stt_training) (0.36.0)\n",
      "Requirement already satisfied: setuptools in /home/aquib/.local/lib/python3.6/site-packages (from numba<=0.53.1->coqui_stt_training) (53.1.0)\n",
      "Requirement already satisfied: scipy>=0.13 in /home/aquib/.local/lib/python3.6/site-packages (from resampy>=0.2.2->coqui_stt_training) (1.5.2)\n",
      "Requirement already satisfied: beautifulsoup4 in /usr/local/lib/python3.6/dist-packages (from bs4->coqui_stt_training) (4.9.3)\n",
      "Requirement already satisfied: dataclasses in /home/aquib/.local/lib/python3.6/site-packages (from coqpit->coqui_stt_training) (0.8)\n",
      "Requirement already satisfied: cffi>=1.12.0 in /home/aquib/.local/lib/python3.6/site-packages (from miniaudio->coqui_stt_training) (1.14.5)\n",
      "Requirement already satisfied: cmaes>=0.8.2 in /home/aquib/.local/lib/python3.6/site-packages (from optuna->coqui_stt_training) (0.8.2)\n",
      "Requirement already satisfied: packaging>=20.0 in /home/aquib/.local/lib/python3.6/site-packages (from optuna->coqui_stt_training) (20.7)\n",
      "Requirement already satisfied: colorlog in /home/aquib/.local/lib/python3.6/site-packages (from optuna->coqui_stt_training) (6.6.0)\n",
      "Requirement already satisfied: sqlalchemy>=1.1.0 in /home/aquib/.local/lib/python3.6/site-packages (from optuna->coqui_stt_training) (1.4.35)\n",
      "Requirement already satisfied: PyYAML in /usr/lib/python3/dist-packages (from optuna->coqui_stt_training) (3.12)\n",
      "Requirement already satisfied: cliff in /home/aquib/.local/lib/python3.6/site-packages (from optuna->coqui_stt_training) (3.10.1)\n",
      "Requirement already satisfied: alembic in /home/aquib/.local/lib/python3.6/site-packages (from optuna->coqui_stt_training) (1.7.7)\n",
      "Requirement already satisfied: pytz>=2017.2 in /home/aquib/.local/lib/python3.6/site-packages (from pandas->coqui_stt_training) (2021.1)\n",
      "Requirement already satisfied: python-dateutil>=2.7.3 in /home/aquib/.local/lib/python3.6/site-packages (from pandas->coqui_stt_training) (2.8.1)\n",
      "Requirement already satisfied: python-utils>=2.3.0 in /home/aquib/.local/lib/python3.6/site-packages (from progressbar2->coqui_stt_training) (3.1.0)\n",
      "Requirement already satisfied: urllib3<1.27,>=1.21.1 in /home/aquib/.local/lib/python3.6/site-packages (from requests->coqui_stt_training) (1.26.3)\n",
      "Requirement already satisfied: idna<3,>=2.5 in /home/aquib/.local/lib/python3.6/site-packages (from requests->coqui_stt_training) (2.10)\n",
      "Requirement already satisfied: certifi>=2017.4.17 in /home/aquib/.local/lib/python3.6/site-packages (from requests->coqui_stt_training) (2020.12.5)\n",
      "Requirement already satisfied: chardet<5,>=3.0.2 in /home/aquib/.local/lib/python3.6/site-packages (from requests->coqui_stt_training) (4.0.0)\n",
      "Requirement already satisfied: braceexpand in /home/aquib/.local/lib/python3.6/site-packages (from webdataset->coqui_stt_training) (0.1.7)\n",
      "Requirement already satisfied: pycparser in /home/aquib/.local/lib/python3.6/site-packages (from cffi>=1.12.0->miniaudio->coqui_stt_training) (2.20)\n",
      "Requirement already satisfied: h5py in /home/aquib/.local/lib/python3.6/site-packages (from keras-applications>=1.0.8->tensorflow==1.15.4->coqui_stt_training) (2.10.0)\n",
      "Requirement already satisfied: pyparsing>=2.0.2 in /home/aquib/.local/lib/python3.6/site-packages (from packaging>=20.0->optuna->coqui_stt_training) (2.4.7)\n",
      "Requirement already satisfied: importlib-metadata in /home/aquib/.local/lib/python3.6/site-packages (from sqlalchemy>=1.1.0->optuna->coqui_stt_training) (4.8.1)\n",
      "Requirement already satisfied: greenlet!=0.4.17 in /home/aquib/.local/lib/python3.6/site-packages (from sqlalchemy>=1.1.0->optuna->coqui_stt_training) (1.1.2)\n",
      "Requirement already satisfied: werkzeug>=0.11.15 in /home/aquib/.local/lib/python3.6/site-packages (from tensorboard<1.16.0,>=1.15.0->tensorflow==1.15.4->coqui_stt_training) (1.0.1)\n",
      "Requirement already satisfied: markdown>=2.6.8 in /home/aquib/.local/lib/python3.6/site-packages (from tensorboard<1.16.0,>=1.15.0->tensorflow==1.15.4->coqui_stt_training) (3.3.3)\n",
      "Requirement already satisfied: importlib-resources in /home/aquib/.local/lib/python3.6/site-packages (from alembic->optuna->coqui_stt_training) (5.1.2)\n",
      "Requirement already satisfied: Mako in /usr/lib/python3/dist-packages (from alembic->optuna->coqui_stt_training) (1.0.7)\n",
      "Requirement already satisfied: soupsieve>1.2 in /usr/local/lib/python3.6/dist-packages (from beautifulsoup4->bs4->coqui_stt_training) (2.2.1)\n",
      "Requirement already satisfied: autopage>=0.4.0 in /home/aquib/.local/lib/python3.6/site-packages (from cliff->optuna->coqui_stt_training) (0.5.0)\n",
      "Requirement already satisfied: PrettyTable>=0.7.2 in /home/aquib/.local/lib/python3.6/site-packages (from cliff->optuna->coqui_stt_training) (2.5.0)\n",
      "Requirement already satisfied: pbr!=2.1.0,>=2.0.0 in /home/aquib/.local/lib/python3.6/site-packages (from cliff->optuna->coqui_stt_training) (5.8.1)\n",
      "Requirement already satisfied: stevedore>=2.0.1 in /home/aquib/.local/lib/python3.6/site-packages (from cliff->optuna->coqui_stt_training) (3.5.0)\n",
      "Requirement already satisfied: cmd2>=1.0.0 in /home/aquib/.local/lib/python3.6/site-packages (from cliff->optuna->coqui_stt_training) (2.4.0)\n",
      "Requirement already satisfied: typing-extensions in /home/aquib/.local/lib/python3.6/site-packages (from cmd2>=1.0.0->cliff->optuna->coqui_stt_training) (3.7.4.3)\n",
      "Requirement already satisfied: attrs>=16.3.0 in /home/aquib/.local/lib/python3.6/site-packages (from cmd2>=1.0.0->cliff->optuna->coqui_stt_training) (18.1.0)\n",
      "Requirement already satisfied: pyperclip>=1.6 in /home/aquib/.local/lib/python3.6/site-packages (from cmd2>=1.0.0->cliff->optuna->coqui_stt_training) (1.8.2)\n",
      "Requirement already satisfied: wcwidth>=0.1.7 in /home/aquib/.local/lib/python3.6/site-packages (from cmd2>=1.0.0->cliff->optuna->coqui_stt_training) (0.2.5)\n",
      "Requirement already satisfied: zipp>=0.5 in /home/aquib/.local/lib/python3.6/site-packages (from importlib-metadata->sqlalchemy>=1.1.0->optuna->coqui_stt_training) (3.4.0)\n",
      "^C\n",
      "\u001b[31mERROR: Operation cancelled by user\u001b[0m\n",
      "/usr/lib/python3/dist-packages/secretstorage/dhcrypto.py:15: CryptographyDeprecationWarning: int_from_bytes is deprecated, use int.from_bytes instead\n",
      "  from cryptography.utils import int_from_bytes\n",
      "/usr/lib/python3/dist-packages/secretstorage/util.py:19: CryptographyDeprecationWarning: int_from_bytes is deprecated, use int.from_bytes instead\n",
      "  from cryptography.utils import int_from_bytes\n",
      "Defaulting to user installation because normal site-packages is not writeable\n",
      "Collecting git+https://github.com/ftyers/commonvoice-utils.git\n",
      "  Cloning https://github.com/ftyers/commonvoice-utils.git to /tmp/pip-req-build-t_ww6_q5\n",
      "  Running command git clone --filter=blob:none -q https://github.com/ftyers/commonvoice-utils.git /tmp/pip-req-build-t_ww6_q5\n",
      "  Resolved https://github.com/ftyers/commonvoice-utils.git to commit 194686fe433988f26d967234579ef87f3796a747\n",
      "  Preparing metadata (setup.py) ... \u001b[?25ldone\n",
      "\u001b[?25hBuilding wheels for collected packages: commonvoice-utils\n",
      "  Building wheel for commonvoice-utils (setup.py) ... \u001b[?25ldone\n",
      "\u001b[?25h  Created wheel for commonvoice-utils: filename=commonvoice_utils-0.2.23-py3-none-any.whl size=181175 sha256=4279dbe10f168b161426fb92f2162e0a45e0c410ffae2bfeec944d6f6778b8ee\n",
      "  Stored in directory: /tmp/pip-ephem-wheel-cache-kebhgla3/wheels/97/1a/a3/8bc61ff73838ba1e4631bd51e854d153e2cdda4e7ba78e6112\n",
      "Successfully built commonvoice-utils\n",
      "Installing collected packages: commonvoice-utils\n",
      "  Attempting uninstall: commonvoice-utils\n",
      "    Found existing installation: commonvoice-utils 0.2.21\n",
      "    Uninstalling commonvoice-utils-0.2.21:\n",
      "      Successfully uninstalled commonvoice-utils-0.2.21\n",
      "Successfully installed commonvoice-utils-0.2.23\n"
     ]
    }
   ],
   "source": [
    "## Install Coqui STT\n",
    "! pip install -U pip\n",
    "! pip install coqui_stt_training\n",
    "! pip install git+https://github.com/ftyers/commonvoice-utils.git\n"
   ]
  },
  {
   "cell_type": "markdown",
   "id": "8c07a273",
   "metadata": {
    "id": "8c07a273"
   },
   "source": [
    "## ✅ Download pre-trained English model\n",
    "\n",
    "We're going to download a very small (but very accurate) pre-trained STT model for English. This model was trained to only transcribe the English words \"yes\" and \"no\", but with transfer learning we can train a new model which could transcribe any words in any language. In this notebook, we will turn this \"constrained vocabulary\" English model into an \"open vocabulary\" Russian model.\n",
    "\n",
    "Coqui STT models as typically stored as checkpoints (for training) and protobufs (for deployment). For transfer learning, we want the **model checkpoints**.\n"
   ]
  },
  {
   "cell_type": "code",
   "execution_count": 2,
   "id": "608d203f",
   "metadata": {
    "id": "608d203f"
   },
   "outputs": [
    {
     "name": "stdout",
     "output_type": "stream",
     "text": [
      "No path \"english/\" - creating ...\n",
      "No archive \"english/model.tar.gz\" - downloading...\n"
     ]
    },
    {
     "name": "stderr",
     "output_type": "stream",
     "text": [
      "100%|██████████| 1160502/1160502 [00:00<00:00, 11382472.69it/s]"
     ]
    },
    {
     "name": "stdout",
     "output_type": "stream",
     "text": [
      "\n",
      "No extracted pre-trained model found. Extracting now...\n"
     ]
    },
    {
     "name": "stderr",
     "output_type": "stream",
     "text": [
      "\n"
     ]
    }
   ],
   "source": [
    "### Download pre-trained model\n",
    "import os\n",
    "import tarfile\n",
    "from coqui_stt_training.util.downloader import maybe_download\n",
    "\n",
    "def download_pretrained_model():\n",
    "    model_dir=\"english/\"\n",
    "    if not os.path.exists(\"english/coqui-yesno-checkpoints\"):\n",
    "        maybe_download(\"model.tar.gz\", model_dir, \"https://github.com/coqui-ai/STT-models/releases/download/english%2Fcoqui%2Fyesno-v0.0.1/coqui-yesno-checkpoints.tar.gz\")\n",
    "        print('\\nNo extracted pre-trained model found. Extracting now...')\n",
    "        tar = tarfile.open(\"english/model.tar.gz\")\n",
    "        tar.extractall(\"english/\")\n",
    "        tar.close()\n",
    "    else:\n",
    "        print('Found \"english/coqui-yesno-checkpoints\" - not extracting.')\n",
    "\n",
    "# Download + extract pre-trained English model\n",
    "download_pretrained_model()"
   ]
  },
  {
   "cell_type": "markdown",
   "id": "ed9dd7ab",
   "metadata": {
    "id": "ed9dd7ab"
   },
   "source": [
    "## ✅ Download data for Russian\n",
    "\n",
    "**First things first**: we need some data.\n",
    "\n",
    "We're training a Speech-to-Text model, so we need some _speech_ and we need some _text_. Specificially, we want _transcribed speech_. Let's download a Russian audio file and its transcript, pre-formatted for 🐸 STT. \n",
    "\n",
    "**Second things second**: we want a Russian alphabet. The output layer of a typical* 🐸 STT model represents letters in the alphabet. Let's download a Russian alphabet from Coqui and use that.\n",
    "\n",
    "*_If you are working with languages with large character sets (e.g. Chinese), you can set `bytes_output_mode=True` instead of supplying an `alphabet.txt` file. In this case, the output layer of the STT model will correspond to individual UTF-8 bytes instead of individual characters._"
   ]
  },
  {
   "cell_type": "code",
   "execution_count": 4,
   "id": "b5105ea7",
   "metadata": {
    "id": "b5105ea7",
    "scrolled": true
   },
   "outputs": [
    {
     "name": "stderr",
     "output_type": "stream",
     "text": [
      "\r",
      "  0%|          | 0/5796505 [00:00<?, ?it/s]"
     ]
    },
    {
     "name": "stdout",
     "output_type": "stream",
     "text": [
      "No archive \"./data.tar.gz\" - downloading...\n"
     ]
    },
    {
     "name": "stderr",
     "output_type": "stream",
     "text": [
      "100%|██████████| 5796505/5796505 [00:00<00:00, 9963744.63it/s] \n"
     ]
    }
   ],
   "source": [
    "### Download sample data\n",
    "from coqui_stt_training.util.downloader import maybe_download\n",
    "\n",
    "def download_sample_data():\n",
    "#     data_dir=\"data/\"\n",
    "        #https://www.cse.iitb.ac.in/~pjyothi/cs753/data.tgz\n",
    "    maybe_download(\"data.tar.gz\", \"./\", \"https://www.cse.iitb.ac.in/~pjyothi/cs753/data.tgz\")\n",
    "    tar = tarfile.open(\"data.tar.gz\")\n",
    "    tar.extractall(\"./\")\n",
    "\n",
    "# Download sample Russian data\n",
    "download_sample_data()"
   ]
  },
  {
   "cell_type": "markdown",
   "id": "b46b7227",
   "metadata": {
    "id": "b46b7227"
   },
   "source": [
    "## ✅ Configure the training run\n",
    "\n",
    "Coqui STT comes with a long list of hyperparameters you can tweak. We've set default values, but you can use `initialize_globals_from_args()` to set your own. \n",
    "\n",
    "You must **always** configure the paths to your data, and you must **always** configure your alphabet. For transfer learning, it's good practice to define different `load_checkpoint_dir` and `save_checkpoint_dir` paths so that you keep your new model (Russian STT) separate from the old one (English STT). The parameter `drop_source_layers` allows you to remove layers from the original (aka \"source\") model, and re-initialize them from scratch. If you are fine-tuning to a new alphabet you will have to use _at least_ `drop_source_layers=1` to remove the output layer and add a new output layer which matches your new alphabet.\n",
    "\n",
    "We are fine-tuning a pre-existing model, so `n_hidden` should be the same as the original English model."
   ]
  },
  {
   "cell_type": "code",
   "execution_count": 38,
   "id": "af8d9f56",
   "metadata": {},
   "outputs": [
    {
     "data": {
      "text/plain": [
       "1"
      ]
     },
     "execution_count": 38,
     "metadata": {},
     "output_type": "execute_result"
    }
   ],
   "source": [
    "from cvutils import Alphabet\n",
    "a = Alphabet('hi')\n",
    "l = a.get_alphabet()\n",
    "l += 'ळ'\n",
    "\n",
    "f = open('data/alphabet.txt', 'w')\n",
    "for i in range(len(l)-1):\n",
    "    f.write(l[i])\n",
    "    f.write('\\n')\n",
    "f.write(l[-1])\n"
   ]
  },
  {
   "cell_type": "code",
   "execution_count": 58,
   "id": "8b61cf2d",
   "metadata": {},
   "outputs": [],
   "source": [
    "f = open('data/ma.csv', 'w')\n",
    "f.write('wav_filename,wav_filesize,transcript\\n')\n",
    "with open('data/marathi.tsv', 'r') as rfile:\n",
    "    lines = rfile.readlines()\n",
    "    for l in lines[:10]:\n",
    "        l_ = l.split('\\t')\n",
    "        f.write('train/'+l_[0]+'.wav'+',0,'+l_[1])"
   ]
  },
  {
   "cell_type": "code",
   "execution_count": null,
   "id": "cff3c5a0",
   "metadata": {
    "id": "cff3c5a0"
   },
   "outputs": [],
   "source": [
    "from coqui_stt_training.util.config import initialize_globals_from_args\n",
    "\n",
    "initialize_globals_from_args(\n",
    "    n_hidden=64,\n",
    "    load_checkpoint_dir=\"english/coqui-yesno-checkpoints\",\n",
    "    save_checkpoint_dir=\"data/checkpoints\",\n",
    "    drop_source_layers=1,\n",
    "    alphabet_config_path=\"data/alphabet.txt\",\n",
    "    train_files=[\"data/ma.csv\"],\n",
    "    dev_files=[\"data/ma.csv\"],\n",
    "    epochs=100,\n",
    "    load_cudnn=True,\n",
    ")"
   ]
  },
  {
   "cell_type": "markdown",
   "id": "419828c1",
   "metadata": {
    "id": "419828c1"
   },
   "source": [
    "### View all Config settings (*Optional*) "
   ]
  },
  {
   "cell_type": "code",
   "execution_count": null,
   "id": "cac6ea3d",
   "metadata": {
    "id": "cac6ea3d",
    "scrolled": true
   },
   "outputs": [],
   "source": [
    "from coqui_stt_training.util.config import Config\n",
    "\n",
    "print(Config.to_json())"
   ]
  },
  {
   "cell_type": "markdown",
   "id": "c8e700d1",
   "metadata": {
    "id": "c8e700d1"
   },
   "source": [
    "## ✅ Train a new Russian model\n",
    "\n",
    "Let's kick off a training run 🚀🚀🚀 (using the configure you set above).\n",
    "\n",
    "This notebook should work on either a GPU or a CPU. However, in case you're running this on _multiple_ GPUs we want to only use one, because the sample dataset (one audio file) is too small to split across multiple GPUs."
   ]
  },
  {
   "cell_type": "code",
   "execution_count": null,
   "id": "8aab2195",
   "metadata": {
    "id": "8aab2195",
    "scrolled": true
   },
   "outputs": [],
   "source": [
    "from coqui_stt_training.train import train\n",
    "\n",
    "# use maximum one GPU\n",
    "os.environ[\"CUDA_VISIBLE_DEVICES\"] = \"0\"\n",
    "\n",
    "train()"
   ]
  },
  {
   "cell_type": "markdown",
   "id": "3c87ba61",
   "metadata": {
    "id": "3c87ba61"
   },
   "source": [
    "## ✅ Configure the testing run\n",
    "\n",
    "Let's add the path to our testing data and update `load_checkpoint_dir` to our new model checkpoints."
   ]
  },
  {
   "cell_type": "code",
   "execution_count": null,
   "id": "2be7beb5",
   "metadata": {
    "id": "2be7beb5"
   },
   "outputs": [],
   "source": [
    "from coqui_stt_training.util.config import Config\n",
    "\n",
    "Config.test_files=[\"russian/ru.csv\"]\n",
    "Config.load_checkpoint_dir=\"russian/checkpoints\""
   ]
  },
  {
   "cell_type": "markdown",
   "id": "c6a5c971",
   "metadata": {
    "id": "c6a5c971"
   },
   "source": [
    "## ✅ Test the new Russian model\n",
    "\n",
    "We made it! 🙌\n",
    "\n",
    "Let's kick off the testing run, which displays performance metrics.\n",
    "\n",
    "We're committing the cardinal sin of ML 😈 (aka - testing on our training data) so you don't want to deploy this model into production. In this notebook we're focusing on the workflow itself, so it's forgivable 😇\n",
    "\n",
    "You can see from the test output that our tiny model has overfit to the data, and basically memorized this one sentence.\n",
    "\n",
    "When you start training your own models, make sure your testing data doesn't include your training data 😅"
   ]
  },
  {
   "cell_type": "code",
   "execution_count": null,
   "id": "6222dc69",
   "metadata": {
    "id": "6222dc69"
   },
   "outputs": [],
   "source": [
    "from coqui_stt_training.evaluate import test\n",
    "\n",
    "test()"
   ]
  }
 ],
 "metadata": {
  "colab": {
   "name": "easy_transfer_learning.ipynb",
   "provenance": []
  },
  "kernelspec": {
   "display_name": "Python 3",
   "language": "python",
   "name": "python3"
  },
  "language_info": {
   "codemirror_mode": {
    "name": "ipython",
    "version": 3
   },
   "file_extension": ".py",
   "mimetype": "text/x-python",
   "name": "python",
   "nbconvert_exporter": "python",
   "pygments_lexer": "ipython3",
   "version": "3.6.9"
  }
 },
 "nbformat": 4,
 "nbformat_minor": 5
}
